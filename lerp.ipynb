{
 "cells": [
  {
   "cell_type": "code",
   "execution_count": 2,
   "metadata": {},
   "outputs": [],
   "source": [
    "import utils\n",
    "from utils.data import Datasets, TEST_INDICIES, IMAGE_SHAPE, FULL_SEQUENCE_LENGTH\n",
    "\n",
    "import numpy as np\n",
    "import matplotlib.pyplot as plt\n",
    "\n",
    "sequences = Datasets(\n",
    "    \"/Users/henrywilliams/Documents/uni/amml/assessment/data\"\n",
    ").n6_full()"
   ]
  },
  {
   "cell_type": "code",
   "execution_count": 3,
   "metadata": {},
   "outputs": [],
   "source": [
    "def plot_full_sequence(sequence, plot_test: bool = True):\n",
    "    fig, axs = plt.subplots(2, 8)\n",
    "\n",
    "    for i in range(len(sequence)):\n",
    "        if i in TEST_INDICIES and not plot_test:\n",
    "            axs[i // 8][i % 8].imshow(np.zeros(IMAGE_SHAPE))\n",
    "        else:\n",
    "            axs[i // 8][i % 8].imshow(sequence[i])\n",
    "        axs[i // 8][i % 8].axis(\"off\")\n",
    "        axs[i // 8][i % 8].title.set_text(f\"{i + 1}\")\n",
    "\n",
    "\n",
    "def lerp(\n",
    "    start: np.ndarray, end: np.ndarray, alpha: float = 0.5, beta: float = 0.5\n",
    ") -> np.ndarray:\n",
    "    assert np.isclose(\n",
    "        alpha + beta, 1.0\n",
    "    ), \"The sum of alpha and beta should be approximately equal to 1\"\n",
    "    return (alpha * start) + (beta * end)"
   ]
  },
  {
   "cell_type": "code",
   "execution_count": 6,
   "metadata": {},
   "outputs": [
    {
     "data": {
      "text/plain": [
       "1072.804381698796"
      ]
     },
     "execution_count": 6,
     "metadata": {},
     "output_type": "execute_result"
    }
   ],
   "source": [
    "import torch\n",
    "\n",
    "\n",
    "loss_fn = torch.nn.functional.mse_loss\n",
    "interp_loss = 0.0\n",
    "\n",
    "lerped_sequences = np.zeros((400, 16, 36, 36, 1))\n",
    "\n",
    "for i, sequence in enumerate(sequences):\n",
    "    start = sequence[0]\n",
    "    end = sequence[-1]\n",
    "    lerped_sequence = np.array(\n",
    "        [\n",
    "            lerp(\n",
    "                start,\n",
    "                end,\n",
    "                alpha=(FULL_SEQUENCE_LENGTH - k) / FULL_SEQUENCE_LENGTH,\n",
    "                beta=k / FULL_SEQUENCE_LENGTH,\n",
    "            )\n",
    "            for k in range(1, FULL_SEQUENCE_LENGTH + 1)\n",
    "        ]\n",
    "    )\n",
    "    lerped_sequences[i] = lerped_sequence\n",
    "loss = 0.0\n",
    "for idx in range(len(sequences)):\n",
    "    y = torch.tensor(sequences[idx])\n",
    "    y_hat = torch.tensor(lerped_sequences[idx])\n",
    "\n",
    "    # plot_full_sequence(y)\n",
    "    # plot_full_sequence(y_hat)\n",
    "\n",
    "    loss += loss_fn(y_hat, y)\n",
    "\n",
    "(loss / len(sequences)).item()"
   ]
  }
 ],
 "metadata": {
  "kernelspec": {
   "display_name": ".venv",
   "language": "python",
   "name": "python3"
  },
  "language_info": {
   "codemirror_mode": {
    "name": "ipython",
    "version": 3
   },
   "file_extension": ".py",
   "mimetype": "text/x-python",
   "name": "python",
   "nbconvert_exporter": "python",
   "pygments_lexer": "ipython3",
   "version": "3.12.7"
  }
 },
 "nbformat": 4,
 "nbformat_minor": 2
}
